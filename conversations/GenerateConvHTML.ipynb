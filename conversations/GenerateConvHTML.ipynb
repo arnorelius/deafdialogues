{
 "cells": [
  {
   "cell_type": "code",
   "execution_count": 1,
   "metadata": {},
   "outputs": [],
   "source": [
    "import os\n",
    "import subprocess\n",
    "import re\n",
    "\n",
    "FOLDER_TOPIC = 'hotel'\n",
    "MODELS = [\"llama-3.1-70b-versatile\", \"llama-3.1-70b-versatile\"]\n",
    "PATH_WEBSITE = \"/Users/arnobeauger/Desktop/MACHINE LEARNING/DeafDialogues/website_files\"\n",
    "PATH_HOTEL_FILE = os.path.join(PATH_WEBSITE, \"hotel.html\")"
   ]
  },
  {
   "cell_type": "code",
   "execution_count": 2,
   "metadata": {},
   "outputs": [],
   "source": [
    "def read_file(filename):\n",
    "    \"\"\"Read the content of a file.\"\"\"\n",
    "    with open(filename, 'r', encoding='utf-8') as file:\n",
    "        return file.read()\n",
    "\n",
    "def write_file(filename, content):\n",
    "    \"\"\"Write content to a file.\"\"\"\n",
    "    with open(filename, 'w', encoding='utf-8') as file:\n",
    "        file.write(content)\n",
    "\n",
    "def format_conversation(conversation_text):\n",
    "    \"\"\"Format the conversation text with HTML tags.\"\"\"\n",
    "    lines = conversation_text.split('\\n')\n",
    "    formatted_lines = []\n",
    "    for line in lines:\n",
    "        # Use regex to match the entity name pattern including surnames in parentheses\n",
    "        match = re.match(r'^(.*?\\(.*?\\)):', line)\n",
    "        if match:\n",
    "            entity_name = match.group(1)\n",
    "            message = line[len(entity_name)+1:].strip()\n",
    "            formatted_line = f'<p><strong style=\"font-size: 1.05em;\">{entity_name}:</strong> {message}</p>'\n",
    "        else:\n",
    "            formatted_line = f'<p>{line}</p>'\n",
    "        formatted_lines.append(formatted_line)\n",
    "    return '\\n'.join(formatted_lines)"
   ]
  },
  {
   "cell_type": "code",
   "execution_count": 3,
   "metadata": {},
   "outputs": [],
   "source": [
    "def extract_surnames(conversation_text):\n",
    "    \"\"\"Extract surnames (text in parentheses) from the conversation.\"\"\"\n",
    "    surnames = re.findall(r'\\((.*?)\\)', conversation_text)\n",
    "    return list(dict.fromkeys(surnames))  # Remove duplicates while preserving order"
   ]
  },
  {
   "cell_type": "code",
   "execution_count": 4,
   "metadata": {},
   "outputs": [],
   "source": [
    "def generate_conversation_html(template_html, conversation_text, conversation_number, surnames, output_filename):\n",
    "    \"\"\"Generate a new HTML file with updated conversation content.\"\"\"\n",
    "    start_tag = '<div class=\"conversation-content\">'\n",
    "    end_tag = '</div>'\n",
    "    \n",
    "    start_index = template_html.index(start_tag) + len(start_tag)\n",
    "    end_index = template_html.index(end_tag, start_index)\n",
    "    \n",
    "    formatted_conversation = format_conversation(conversation_text)\n",
    "    \n",
    "    new_html = (\n",
    "        template_html[:start_index] +\n",
    "        f\"\\n{formatted_conversation}\\n\" +\n",
    "        template_html[end_index:]\n",
    "    )\n",
    "    \n",
    "    new_html = new_html.replace(\n",
    "        '<title>Conversation 1 - Hotel of Consciousness</title>',\n",
    "        f'<title>Conversation {conversation_number} - Hotel of Consciousness</title>' # ({\" and \".join(surnames)})\n",
    "    )\n",
    "    \n",
    "    write_file(output_filename, new_html)"
   ]
  },
  {
   "cell_type": "code",
   "execution_count": 5,
   "metadata": {},
   "outputs": [],
   "source": [
    "def update_hotel_page(hotel_html, new_conversation_number, surnames):\n",
    "    \"\"\"Update the Hotel of Consciousness page with a new conversation link.\"\"\"\n",
    "    insert_point = hotel_html.index('</ul>')\n",
    "    new_link = f'            <li><a href=\"conversation_{new_conversation_number}_{\"_\".join(MODELS)}.html\">conversation_{new_conversation_number} ({\" and \".join(MODELS)})</a></li>\\n' #_{\"_\".join(surnames)}    c\n",
    "    \n",
    "    updated_html = (\n",
    "        hotel_html[:insert_point] +\n",
    "        new_link +\n",
    "        hotel_html[insert_point:]\n",
    "    )\n",
    "    \n",
    "    return updated_html"
   ]
  },
  {
   "cell_type": "code",
   "execution_count": 6,
   "metadata": {},
   "outputs": [],
   "source": [
    "def main():\n",
    "    # Run dialogues.py to generate new txt file\n",
    "    # subprocess.run([\"python\", \"dialogues.py\"])    \n",
    "    \n",
    "    # Determine the new conversation number\n",
    "    existing_conversations = [f for f in os.listdir(FOLDER_TOPIC) if f.startswith(\"conversation_\") and f.endswith(\".html\")]\n",
    "    new_conversation_number = len(existing_conversations) + 1\n",
    "    \n",
    "    # Paths\n",
    "    template_file = f\"{FOLDER_TOPIC}/template_conv.html\"\n",
    "    conversation_file = f\"{FOLDER_TOPIC}/conversation_{new_conversation_number}.txt\"\n",
    "    # hotel_file = f\"{FOLDER_TOPIC}/hotel.html\"\n",
    "    hotel_file = PATH_HOTEL_FILE\n",
    "    \n",
    "    \n",
    "    # Read files\n",
    "    template_html = read_file(template_file)\n",
    "    conversation_text = read_file(conversation_file)\n",
    "    hotel_html = read_file(hotel_file)\n",
    "    \n",
    "    # Extract surnames\n",
    "    surnames = extract_surnames(conversation_text)\n",
    "    \n",
    "    # Generate output filename\n",
    "    output_file = os.path.join(PATH_WEBSITE, f\"conversation_{new_conversation_number}_{'_'.join(MODELS)}.html\")\n",
    "    \n",
    "    # Generate new conversation HTML\n",
    "    generate_conversation_html(template_html, conversation_text, new_conversation_number, MODELS, output_file)\n",
    "    \n",
    "    # Update Hotel of Consciousness page\n",
    "    updated_hotel_html = update_hotel_page(hotel_html, new_conversation_number, MODELS)\n",
    "    write_file(hotel_file, updated_hotel_html)\n",
    "    \n",
    "    print(f\"Generated {output_file} and updated {hotel_file} successfully!\")"
   ]
  },
  {
   "cell_type": "code",
   "execution_count": 7,
   "metadata": {},
   "outputs": [
    {
     "name": "stdout",
     "output_type": "stream",
     "text": [
      "Generated /Users/arnobeauger/Desktop/MACHINE LEARNING/DeafDialogues/website_files/conversation_1_llama-3.1-70b-versatile_llama-3.1-70b-versatile.html and updated /Users/arnobeauger/Desktop/MACHINE LEARNING/DeafDialogues/website_files/hotel.html successfully!\n"
     ]
    }
   ],
   "source": [
    "if __name__ == \"__main__\":\n",
    "    main()"
   ]
  },
  {
   "cell_type": "code",
   "execution_count": null,
   "metadata": {},
   "outputs": [],
   "source": []
  }
 ],
 "metadata": {
  "kernelspec": {
   "display_name": "pygai",
   "language": "python",
   "name": "python3"
  },
  "language_info": {
   "codemirror_mode": {
    "name": "ipython",
    "version": 3
   },
   "file_extension": ".py",
   "mimetype": "text/x-python",
   "name": "python",
   "nbconvert_exporter": "python",
   "pygments_lexer": "ipython3",
   "version": "3.10.0"
  }
 },
 "nbformat": 4,
 "nbformat_minor": 2
}
